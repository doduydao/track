{
 "cells": [
  {
   "cell_type": "markdown",
   "id": "7a2d19fa-be0f-4bb0-94c1-c2881194a386",
   "metadata": {},
   "source": [
    "### Read \"true\" hits"
   ]
  },
  {
   "cell_type": "code",
   "execution_count": 13,
   "id": "d7e91f8e-84c3-4f5b-a200-1a02ceef6109",
   "metadata": {},
   "outputs": [],
   "source": [
    "import csv\n",
    "import pandas as pd"
   ]
  },
  {
   "cell_type": "code",
   "execution_count": 14,
   "id": "1f4c9501-8afa-406f-ba51-5a28d0a54e1f",
   "metadata": {},
   "outputs": [],
   "source": [
    "dataset = pd.read_csv('event000001000/event000001000-truth.csv')"
   ]
  },
  {
   "cell_type": "code",
   "execution_count": 15,
   "id": "99e8edef-1be8-458f-8b77-523360ad32d4",
   "metadata": {},
   "outputs": [
    {
     "name": "stdout",
     "output_type": "stream",
     "text": [
      "        hit_id         particle_id        tx         ty      tz  \\\n",
      "0            1                   0  -64.4116  -7.164120 -1502.5   \n",
      "1            2   22525763437723648  -55.3385   0.630805 -1502.5   \n",
      "2            3                   0  -83.8280  -1.145580 -1502.5   \n",
      "3            4  297237712845406208  -96.1229  -8.230360 -1502.5   \n",
      "4            5  418835796137607168  -62.6594  -9.375040 -1502.5   \n",
      "...        ...                 ...       ...        ...     ...   \n",
      "120934  120935  445864815605317632 -763.3840  51.545000  2944.5   \n",
      "120935  120936  900720956266250240 -804.6650   3.186900  2944.5   \n",
      "120936  120937  238705348779704320 -986.9890  41.731300  2952.5   \n",
      "120937  120938  373800349619716096 -947.0050  18.765000  2952.5   \n",
      "120938  120939  238694972138717184 -926.2570   2.309990  2952.5   \n",
      "\n",
      "                  tpx            tpy            tpz    weight  \n",
      "0       250710.000000 -149908.000000 -956385.000000  0.000000  \n",
      "1           -0.570605       0.028390     -15.492200  0.000010  \n",
      "2       626295.000000 -169767.000000 -760877.000000  0.000000  \n",
      "3           -0.225235      -0.050968      -3.702320  0.000008  \n",
      "4           -0.281806      -0.023487      -6.573180  0.000009  \n",
      "...               ...            ...            ...       ...  \n",
      "120934      -1.640200       0.208933       6.293810  0.000018  \n",
      "120935      -0.315684      -0.094259       1.328200  0.000007  \n",
      "120936      -0.212508       0.095667       0.731932  0.000009  \n",
      "120937      -0.165762      -0.103945       0.800783  0.000007  \n",
      "120938      -1.741690       0.112363       5.503780  0.000021  \n",
      "\n",
      "[120939 rows x 9 columns]\n"
     ]
    }
   ],
   "source": [
    "print(dataset)"
   ]
  },
  {
   "cell_type": "code",
   "execution_count": null,
   "id": "e7a13760-ac9f-45c9-96fa-6ccfc418940c",
   "metadata": {},
   "outputs": [],
   "source": []
  }
 ],
 "metadata": {
  "kernelspec": {
   "display_name": "Python 3 (ipykernel)",
   "language": "python",
   "name": "python3"
  },
  "language_info": {
   "codemirror_mode": {
    "name": "ipython",
    "version": 3
   },
   "file_extension": ".py",
   "mimetype": "text/x-python",
   "name": "python",
   "nbconvert_exporter": "python",
   "pygments_lexer": "ipython3",
   "version": "3.10.14"
  }
 },
 "nbformat": 4,
 "nbformat_minor": 5
}
