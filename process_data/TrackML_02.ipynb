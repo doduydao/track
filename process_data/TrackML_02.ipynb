{
 "cells": [
  {
   "cell_type": "markdown",
   "id": "3850eb2b-3568-47eb-9c76-4f7ec35f6570",
   "metadata": {},
   "source": [
    "### Read hits"
   ]
  },
  {
   "cell_type": "code",
   "execution_count": 4,
   "id": "d7e91f8e-84c3-4f5b-a200-1a02ceef6109",
   "metadata": {},
   "outputs": [],
   "source": [
    "import csv\n",
    "import pandas as pd"
   ]
  },
  {
   "cell_type": "code",
   "execution_count": 5,
   "id": "1f4c9501-8afa-406f-ba51-5a28d0a54e1f",
   "metadata": {},
   "outputs": [],
   "source": [
    "dataset = pd.read_csv('event000001000/event000001000-hits.csv')"
   ]
  },
  {
   "cell_type": "code",
   "execution_count": 6,
   "id": "99e8edef-1be8-458f-8b77-523360ad32d4",
   "metadata": {},
   "outputs": [
    {
     "name": "stdout",
     "output_type": "stream",
     "text": [
      "        hit_id         x          y       z  volume_id  layer_id  module_id\n",
      "0            1  -64.4099  -7.163700 -1502.5          7         2          1\n",
      "1            2  -55.3361   0.635342 -1502.5          7         2          1\n",
      "2            3  -83.8305  -1.143010 -1502.5          7         2          1\n",
      "3            4  -96.1091  -8.241030 -1502.5          7         2          1\n",
      "4            5  -62.6736  -9.371200 -1502.5          7         2          1\n",
      "...        ...       ...        ...     ...        ...       ...        ...\n",
      "120934  120935 -763.8630  51.569400  2944.5         18        12         97\n",
      "120935  120936 -808.7050   3.459260  2944.5         18        12         97\n",
      "120936  120937 -982.9360  41.460900  2952.5         18        12         98\n",
      "120937  120938 -942.6990  18.489100  2952.5         18        12         98\n",
      "120938  120939 -922.8900   2.092850  2952.5         18        12         98\n",
      "\n",
      "[120939 rows x 7 columns]\n"
     ]
    }
   ],
   "source": [
    "print(dataset)"
   ]
  },
  {
   "cell_type": "code",
   "execution_count": null,
   "id": "e7a13760-ac9f-45c9-96fa-6ccfc418940c",
   "metadata": {},
   "outputs": [],
   "source": []
  }
 ],
 "metadata": {
  "kernelspec": {
   "display_name": "Python 3 (ipykernel)",
   "language": "python",
   "name": "python3"
  },
  "language_info": {
   "codemirror_mode": {
    "name": "ipython",
    "version": 3
   },
   "file_extension": ".py",
   "mimetype": "text/x-python",
   "name": "python",
   "nbconvert_exporter": "python",
   "pygments_lexer": "ipython3",
   "version": "3.10.14"
  }
 },
 "nbformat": 4,
 "nbformat_minor": 5
}
