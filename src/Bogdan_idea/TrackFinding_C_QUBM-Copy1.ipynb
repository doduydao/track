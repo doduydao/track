{
 "cells": [
  {
   "cell_type": "code",
   "execution_count": 1,
   "id": "c767021e-600a-496f-8027-877551a2252d",
   "metadata": {
    "editable": true,
    "slideshow": {
     "slide_type": ""
    },
    "tags": []
   },
   "outputs": [],
   "source": [
    "from ultis1 import *\n",
    "from docplex.mp.model import Model\n",
    "from qiskit_optimization.translators import from_docplex_mp\n",
    "from qiskit_optimization.converters import QuadraticProgramToQubo\n",
    "import matplotlib.pyplot as plt\n",
    "from docplex.mp.model_reader import ModelReader\n",
    "%matplotlib widget"
   ]
  },
  {
   "cell_type": "markdown",
   "id": "7c83b053-bc8a-475e-9bc1-8048f13c193a",
   "metadata": {},
   "source": [
    "### Create functions to define quadratic model and convert to qubo"
   ]
  },
  {
   "cell_type": "code",
   "execution_count": 2,
   "id": "0e731509-b937-464d-ad39-e16ba60a6d9d",
   "metadata": {},
   "outputs": [],
   "source": [
    "def define_variables(costs, model):\n",
    "    var = set()\n",
    "    for ijk in costs.keys():\n",
    "        i, j, k = ijk[0], ijk[1], ijk[2]\n",
    "        var.add((i, j))\n",
    "        var.add((j, k))\n",
    "    var = sorted(var, key=lambda x: (x[0], x[1]))\n",
    "    x = model.binary_var_dict(var, name='x')\n",
    "    return x"
   ]
  },
  {
   "cell_type": "code",
   "execution_count": 3,
   "id": "bd746583-2168-4678-890d-e592a15ae03e",
   "metadata": {
    "editable": true,
    "slideshow": {
     "slide_type": ""
    },
    "tags": []
   },
   "outputs": [],
   "source": [
    "def create_constrained_quadratic_model(costs, hits, hits_by_layers, alpha):\n",
    "    NL = len(hits_by_layers.keys())\n",
    "    print(\"Number of layers: \", NL)\n",
    "\n",
    "    model = Model(name=\"Track finding\")\n",
    "    model.float_precision = 8\n",
    "    x = define_variables(costs, model)\n",
    "    ob_funct = model.sum(-w * alpha * x[(ijk[0], ijk[1])] * x[(ijk[1], ijk[2])] for ijk, w in costs.items())\n",
    "    model.minimize(ob_funct)\n",
    "    for h in hits:\n",
    "        k = h.index\n",
    "        constraint_out = []\n",
    "        constraint_in = []\n",
    "        for k_1 in x.keys():\n",
    "            if ((h.layer_id < (NL - 1)) and (k_1[0] == k)):\n",
    "                constraint_out.append(x[(k_1[0], k_1[1])])\n",
    "            if ((h.layer_id > 0) and (k_1[1] == k)):\n",
    "                constraint_in.append(x[(k_1[0], k_1[1])])\n",
    "        if (len(constraint_out) > 0):\n",
    "            model.add_constraint(model.sum(constraint_out) == 1)\n",
    "        if (len(constraint_in) > 0):\n",
    "            model.add_constraint(model.sum(constraint_in) == 1)\n",
    "    return model\n"
   ]
  },
  {
   "cell_type": "code",
   "execution_count": 4,
   "id": "3ad6afb7-96b2-46a7-b1a7-eb7922110ff2",
   "metadata": {
    "editable": true,
    "slideshow": {
     "slide_type": ""
    },
    "tags": []
   },
   "outputs": [],
   "source": [
    "def convert_to_qubo(model, gamma, path):\n",
    "    quadratic_program = from_docplex_mp(model)\n",
    "    qubo = QuadraticProgramToQubo(penalty=gamma).convert(quadratic_program)\n",
    "    num_vars = qubo.get_num_binary_vars()\n",
    "    print(\n",
    "        f\"To represent the inital problem with {model.number_of_binary_variables} variables, the QUBO representation needs {num_vars} variables\")\n",
    "\n",
    "    qubo.write_to_lp_file(path)\n",
    "    # model = cplex.Cplex(path)\n",
    "    model = ModelReader.read(path)\n",
    "    return model\n"
   ]
  },
  {
   "cell_type": "code",
   "execution_count": 5,
   "id": "c0abc937-5bc6-42ad-809e-8ecee0996b31",
   "metadata": {
    "editable": true,
    "slideshow": {
     "slide_type": ""
    },
    "tags": []
   },
   "outputs": [],
   "source": [
    "def create_model(costs, hits, hits_by_layers, alpha, gamma, path):\n",
    "    model = create_constrained_quadratic_model(costs, hits, hits_by_layers, alpha)\n",
    "    model = convert_to_qubo(model, gamma, path)\n",
    "    return model"
   ]
  },
  {
   "cell_type": "code",
   "execution_count": 6,
   "id": "d4244216-0027-4473-b69e-18ce0bc230f3",
   "metadata": {},
   "outputs": [],
   "source": [
    "def solve_lp(model, solution_path_out):\n",
    "    model.solve(log_output=True)\n",
    "    \n",
    "    if model.solution == None:\n",
    "        print(\"No solution!\")\n",
    "        return None\n",
    "    else:\n",
    "        model.solution.export(solution_path_out)\n",
    "\n",
    "        f = open(solution_path_out)\n",
    "        result = json.load(f)\n",
    "        f.close()\n",
    "        solution = result['CPLEXSolution']['variables']\n",
    "        ob_value = float(result['CPLEXSolution']['header']['objectiveValue'])\n",
    "        return ob_value, solution"
   ]
  },
  {
   "cell_type": "markdown",
   "id": "74bf60dd-a37d-4d9d-9885-c81ad755ce04",
   "metadata": {
    "editable": true,
    "slideshow": {
     "slide_type": ""
    },
    "tags": []
   },
   "source": [
    "### Display result"
   ]
  },
  {
   "cell_type": "code",
   "execution_count": 7,
   "id": "89214247-ca4c-46ea-b550-c360d6645d29",
   "metadata": {},
   "outputs": [],
   "source": [
    "def display(hits, result, out=\"\"):\n",
    "    fig = plt.figure()\n",
    "    ax = fig.add_subplot(projection='3d')\n",
    "\n",
    "    xs = []\n",
    "    ys = []\n",
    "    zs = []\n",
    "\n",
    "    for h in hits:\n",
    "        xs.append(h.x)\n",
    "        ys.append(h.y)\n",
    "        zs.append(h.z)\n",
    "    ax.scatter(xs, ys, zs, marker='o', color='red')\n",
    "\n",
    "    count_segments = 0\n",
    "    for var in result:\n",
    "        # print(var)\n",
    "        x_i_j = var['name'].split('_')\n",
    "        if 'x' in x_i_j[0] and round(float(var['value'])) == 1.0:\n",
    "            count_segments += 1\n",
    "            i = int(x_i_j[1])\n",
    "            j = int(x_i_j[2])\n",
    "            h1 = hits[i]\n",
    "            h2 = hits[j]\n",
    "            ax.plot(xs=[h1.x, h2.x], ys=[h1.y, h2.y], zs=[h1.z, h2.z], color='blue')\n",
    "    print(\"No. segments by model :\", count_segments)\n",
    "    ax.set_xlabel('X')\n",
    "    ax.set_ylabel('Y')\n",
    "    ax.set_zlabel('Z')\n",
    "\n",
    "    plt.savefig(out)\n",
    "    plt.show()\n"
   ]
  },
  {
   "cell_type": "code",
   "execution_count": 8,
   "id": "f6abe495-7ed5-4327-abd0-f92b62e3b8ee",
   "metadata": {
    "editable": true,
    "slideshow": {
     "slide_type": ""
    },
    "tags": []
   },
   "outputs": [],
   "source": [
    "def run_script(no_tracks, beta_max, m, alpha, gamma):\n",
    "    src_path = '../../src/data_selected'\n",
    "    folder = '/'+ str(no_tracks)+'hits/known_track/'\n",
    "    out_path = 'results'\n",
    "    data_path = src_path + folder + 'hits.csv'\n",
    "    figure_path_out = out_path + folder + \"result_C_QUBM.PNG\"\n",
    "    check_path(out_path + folder)\n",
    "    \n",
    "    # read data\n",
    "    print(\"Loading data...\")\n",
    "    start = time.time()\n",
    "    hits_by_layers, hits = read_hits(data_path)\n",
    "    end = time.time()\n",
    "    print(\"Loaded data! Execution time: \", end - start)\n",
    "\n",
    "    re_calculate = False\n",
    "    costs_path_out = out_path + folder + \"pi_\" + str(A) + \"costs.json\"\n",
    "    if os.path.exists(costs_path_out) == False:\n",
    "        re_calculate = True\n",
    "    if re_calculate:\n",
    "        # calculate costs\n",
    "        print(\"\\n----Compute cost----\")\n",
    "        start = time.time()\n",
    "        costs = get_costs_tensorflow(hits_by_layers, beta_max)\n",
    "        end = time.time()\n",
    "        print('Complete!. Execution time: ', end - start, 's')\n",
    "    \n",
    "        print(\"\\n---Write cost out---\")\n",
    "        print(\"Path: \", costs_path_out)\n",
    "        write_costs(costs, costs_path_out, m)\n",
    "    \n",
    "    # load data\n",
    "    print(\"---Load cost---\")\n",
    "    costs = load_costs(costs_path_out)\n",
    "    print(\"---Loaded cost---\")\n",
    "\n",
    "    print(\"\\n ----Create LP----\")\n",
    "    model_path_out = out_path + folder + \"model_C_QUBM.lp\"\n",
    "    model = create_model(costs, hits, hits_by_layers, alpha, gamma, model_path_out)\n",
    "    print(\"----Created LP----\")\n",
    "\n",
    "    \n",
    "    print(\"\\n----Solving----\")\n",
    "    solution_path_out = out_path + folder + \"solution_C_QUBM.json\"\n",
    "    ob_value, solution = solve_lp(model, solution_path_out)\n",
    "    print(\"Objective value:\", ob_value / alpha)\n",
    "    cal_expected_value(hits, m)\n",
    "    display(hits, solution, out=figure_path_out)"
   ]
  },
  {
   "cell_type": "code",
   "execution_count": 9,
   "id": "fb4bb693-09ad-46b0-aa2f-40d427cff473",
   "metadata": {
    "editable": true,
    "slideshow": {
     "slide_type": ""
    },
    "tags": []
   },
   "outputs": [
    {
     "name": "stdout",
     "output_type": "stream",
     "text": [
      "Loading data...\n",
      "Loaded data! Execution time:  0.011720895767211914\n",
      "\n",
      "----Compute cost----\n"
     ]
    },
    {
     "name": "stderr",
     "output_type": "stream",
     "text": [
      "Computing…:   0%|                                    | 0/5 [00:01<?, ?it/s]\n"
     ]
    },
    {
     "ename": "TypeError",
     "evalue": "in user code:\n\n    File \"/Users/doduydao/daodd/PycharmProjects/track/src/Bogdan_idea/ultis1.py\", line 51, in compute_cost_tensorflow  *\n        costs = tf.TensorArray(((tf.int8, tf.int8, tf.int8), tf.float32), size=0, dynamic_size=True)\n\n    TypeError: Cannot convert the argument `type_value`: ((tf.int8, tf.int8, tf.int8), tf.float32) to a TensorFlow DType.\n",
     "output_type": "error",
     "traceback": [
      "\u001b[0;31m---------------------------------------------------------------------------\u001b[0m",
      "\u001b[0;31mTypeError\u001b[0m                                 Traceback (most recent call last)",
      "Cell \u001b[0;32mIn[9], line 8\u001b[0m\n\u001b[1;32m      6\u001b[0m alpha \u001b[38;5;241m=\u001b[39m \u001b[38;5;241m200\u001b[39m\n\u001b[1;32m      7\u001b[0m gamma \u001b[38;5;241m=\u001b[39m \u001b[38;5;241m1\u001b[39m\n\u001b[0;32m----> 8\u001b[0m \u001b[43mrun_script\u001b[49m\u001b[43m(\u001b[49m\u001b[43mno_tracks\u001b[49m\u001b[43m,\u001b[49m\u001b[43m \u001b[49m\u001b[43mbeta_max\u001b[49m\u001b[43m,\u001b[49m\u001b[43m \u001b[49m\u001b[43mm\u001b[49m\u001b[43m,\u001b[49m\u001b[43m \u001b[49m\u001b[43malpha\u001b[49m\u001b[43m,\u001b[49m\u001b[43m \u001b[49m\u001b[43mgamma\u001b[49m\u001b[43m)\u001b[49m\n",
      "Cell \u001b[0;32mIn[8], line 24\u001b[0m, in \u001b[0;36mrun_script\u001b[0;34m(no_tracks, beta_max, m, alpha, gamma)\u001b[0m\n\u001b[1;32m     22\u001b[0m \u001b[38;5;28mprint\u001b[39m(\u001b[38;5;124m\"\u001b[39m\u001b[38;5;130;01m\\n\u001b[39;00m\u001b[38;5;124m----Compute cost----\u001b[39m\u001b[38;5;124m\"\u001b[39m)\n\u001b[1;32m     23\u001b[0m start \u001b[38;5;241m=\u001b[39m time\u001b[38;5;241m.\u001b[39mtime()\n\u001b[0;32m---> 24\u001b[0m costs \u001b[38;5;241m=\u001b[39m \u001b[43mget_costs_tensorflow\u001b[49m\u001b[43m(\u001b[49m\u001b[43mhits_by_layers\u001b[49m\u001b[43m,\u001b[49m\u001b[43m \u001b[49m\u001b[43mbeta_max\u001b[49m\u001b[43m)\u001b[49m\n\u001b[1;32m     25\u001b[0m end \u001b[38;5;241m=\u001b[39m time\u001b[38;5;241m.\u001b[39mtime()\n\u001b[1;32m     26\u001b[0m \u001b[38;5;28mprint\u001b[39m(\u001b[38;5;124m'\u001b[39m\u001b[38;5;124mComplete!. Execution time: \u001b[39m\u001b[38;5;124m'\u001b[39m, end \u001b[38;5;241m-\u001b[39m start, \u001b[38;5;124m'\u001b[39m\u001b[38;5;124ms\u001b[39m\u001b[38;5;124m'\u001b[39m)\n",
      "File \u001b[0;32m~/daodd/PycharmProjects/track/src/Bogdan_idea/ultis1.py:82\u001b[0m, in \u001b[0;36mget_costs_tensorflow\u001b[0;34m(hits, beta_max)\u001b[0m\n\u001b[1;32m     79\u001b[0m     first_part_flat \u001b[38;5;241m=\u001b[39m \u001b[38;5;28mlist\u001b[39m(itertools\u001b[38;5;241m.\u001b[39mchain\u001b[38;5;241m.\u001b[39mfrom_iterable(first_part))\n\u001b[1;32m     80\u001b[0m     second_part_flat \u001b[38;5;241m=\u001b[39m \u001b[38;5;28mlist\u001b[39m(itertools\u001b[38;5;241m.\u001b[39mchain\u001b[38;5;241m.\u001b[39mfrom_iterable(second_part))\n\u001b[0;32m---> 82\u001b[0m     costs_tf \u001b[38;5;241m=\u001b[39m \u001b[43mcompute_cost_tensorflow\u001b[49m\u001b[43m(\u001b[49m\u001b[43mfirst_part_flat\u001b[49m\u001b[43m,\u001b[49m\u001b[43m \u001b[49m\u001b[43msecond_part_flat\u001b[49m\u001b[43m,\u001b[49m\u001b[43m \u001b[49m\u001b[43mcos_beta_max\u001b[49m\u001b[43m)\u001b[49m\n\u001b[1;32m     83\u001b[0m     costs\u001b[38;5;241m.\u001b[39mextend(costs_tf\u001b[38;5;241m.\u001b[39mnumpy())\n\u001b[1;32m     85\u001b[0m \u001b[38;5;28;01mreturn\u001b[39;00m costs\n",
      "File \u001b[0;32m~/anaconda3/envs/track_finding/lib/python3.10/site-packages/tensorflow/python/util/traceback_utils.py:153\u001b[0m, in \u001b[0;36mfilter_traceback.<locals>.error_handler\u001b[0;34m(*args, **kwargs)\u001b[0m\n\u001b[1;32m    151\u001b[0m \u001b[38;5;28;01mexcept\u001b[39;00m \u001b[38;5;167;01mException\u001b[39;00m \u001b[38;5;28;01mas\u001b[39;00m e:\n\u001b[1;32m    152\u001b[0m   filtered_tb \u001b[38;5;241m=\u001b[39m _process_traceback_frames(e\u001b[38;5;241m.\u001b[39m__traceback__)\n\u001b[0;32m--> 153\u001b[0m   \u001b[38;5;28;01mraise\u001b[39;00m e\u001b[38;5;241m.\u001b[39mwith_traceback(filtered_tb) \u001b[38;5;28;01mfrom\u001b[39;00m \u001b[38;5;28;01mNone\u001b[39;00m\n\u001b[1;32m    154\u001b[0m \u001b[38;5;28;01mfinally\u001b[39;00m:\n\u001b[1;32m    155\u001b[0m   \u001b[38;5;28;01mdel\u001b[39;00m filtered_tb\n",
      "File \u001b[0;32m/var/folders/gk/3j6c_tp12vs48rssjd3prq_c0000gn/T/__autograph_generated_file69v3do5b.py:10\u001b[0m, in \u001b[0;36mouter_factory.<locals>.inner_factory.<locals>.tf__compute_cost_tensorflow\u001b[0;34m(first_part, second_part, cos_beta_max)\u001b[0m\n\u001b[1;32m      8\u001b[0m do_return \u001b[38;5;241m=\u001b[39m \u001b[38;5;28;01mFalse\u001b[39;00m\n\u001b[1;32m      9\u001b[0m retval_ \u001b[38;5;241m=\u001b[39m ag__\u001b[38;5;241m.\u001b[39mUndefinedReturnValue()\n\u001b[0;32m---> 10\u001b[0m costs \u001b[38;5;241m=\u001b[39m \u001b[43mag__\u001b[49m\u001b[38;5;241;43m.\u001b[39;49m\u001b[43mconverted_call\u001b[49m\u001b[43m(\u001b[49m\u001b[43mag__\u001b[49m\u001b[38;5;241;43m.\u001b[39;49m\u001b[43mld\u001b[49m\u001b[43m(\u001b[49m\u001b[43mtf\u001b[49m\u001b[43m)\u001b[49m\u001b[38;5;241;43m.\u001b[39;49m\u001b[43mTensorArray\u001b[49m\u001b[43m,\u001b[49m\u001b[43m \u001b[49m\u001b[43m(\u001b[49m\u001b[43m(\u001b[49m\u001b[43m(\u001b[49m\u001b[43mag__\u001b[49m\u001b[38;5;241;43m.\u001b[39;49m\u001b[43mld\u001b[49m\u001b[43m(\u001b[49m\u001b[43mtf\u001b[49m\u001b[43m)\u001b[49m\u001b[38;5;241;43m.\u001b[39;49m\u001b[43mint8\u001b[49m\u001b[43m,\u001b[49m\u001b[43m \u001b[49m\u001b[43mag__\u001b[49m\u001b[38;5;241;43m.\u001b[39;49m\u001b[43mld\u001b[49m\u001b[43m(\u001b[49m\u001b[43mtf\u001b[49m\u001b[43m)\u001b[49m\u001b[38;5;241;43m.\u001b[39;49m\u001b[43mint8\u001b[49m\u001b[43m,\u001b[49m\u001b[43m \u001b[49m\u001b[43mag__\u001b[49m\u001b[38;5;241;43m.\u001b[39;49m\u001b[43mld\u001b[49m\u001b[43m(\u001b[49m\u001b[43mtf\u001b[49m\u001b[43m)\u001b[49m\u001b[38;5;241;43m.\u001b[39;49m\u001b[43mint8\u001b[49m\u001b[43m)\u001b[49m\u001b[43m,\u001b[49m\u001b[43m \u001b[49m\u001b[43mag__\u001b[49m\u001b[38;5;241;43m.\u001b[39;49m\u001b[43mld\u001b[49m\u001b[43m(\u001b[49m\u001b[43mtf\u001b[49m\u001b[43m)\u001b[49m\u001b[38;5;241;43m.\u001b[39;49m\u001b[43mfloat32\u001b[49m\u001b[43m)\u001b[49m\u001b[43m,\u001b[49m\u001b[43m)\u001b[49m\u001b[43m,\u001b[49m\u001b[43m \u001b[49m\u001b[38;5;28;43mdict\u001b[39;49m\u001b[43m(\u001b[49m\u001b[43msize\u001b[49m\u001b[38;5;241;43m=\u001b[39;49m\u001b[38;5;241;43m0\u001b[39;49m\u001b[43m,\u001b[49m\u001b[43m \u001b[49m\u001b[43mdynamic_size\u001b[49m\u001b[38;5;241;43m=\u001b[39;49m\u001b[38;5;28;43;01mTrue\u001b[39;49;00m\u001b[43m)\u001b[49m\u001b[43m,\u001b[49m\u001b[43m \u001b[49m\u001b[43mfscope\u001b[49m\u001b[43m)\u001b[49m\n\u001b[1;32m     11\u001b[0m index \u001b[38;5;241m=\u001b[39m \u001b[38;5;241m0\u001b[39m\n\u001b[1;32m     13\u001b[0m \u001b[38;5;28;01mdef\u001b[39;00m \u001b[38;5;21mget_state_3\u001b[39m():\n",
      "\u001b[0;31mTypeError\u001b[0m: in user code:\n\n    File \"/Users/doduydao/daodd/PycharmProjects/track/src/Bogdan_idea/ultis1.py\", line 51, in compute_cost_tensorflow  *\n        costs = tf.TensorArray(((tf.int8, tf.int8, tf.int8), tf.float32), size=0, dynamic_size=True)\n\n    TypeError: Cannot convert the argument `type_value`: ((tf.int8, tf.int8, tf.int8), tf.float32) to a TensorFlow DType.\n"
     ]
    }
   ],
   "source": [
    "if __name__ == '__main__': # Keep this line if we want to run multiprocessing\n",
    "    no_tracks = 100\n",
    "    A = 250\n",
    "    beta_max = math.pi / A\n",
    "    m = 1\n",
    "    alpha = 200\n",
    "    gamma = 1\n",
    "    run_script(no_tracks, beta_max, m, alpha, gamma)"
   ]
  },
  {
   "cell_type": "code",
   "execution_count": null,
   "id": "494bf3c2-330f-40b1-a1e4-8546f9719bac",
   "metadata": {
    "editable": true,
    "slideshow": {
     "slide_type": ""
    },
    "tags": []
   },
   "outputs": [],
   "source": [
    "plt.close()"
   ]
  },
  {
   "cell_type": "code",
   "execution_count": null,
   "id": "7d6c0a83-7c31-488f-84a8-14ad3ec340e9",
   "metadata": {
    "editable": true,
    "slideshow": {
     "slide_type": ""
    },
    "tags": []
   },
   "outputs": [],
   "source": []
  }
 ],
 "metadata": {
  "kernelspec": {
   "display_name": "Python 3 (ipykernel)",
   "language": "python",
   "name": "python3"
  },
  "language_info": {
   "codemirror_mode": {
    "name": "ipython",
    "version": 3
   },
   "file_extension": ".py",
   "mimetype": "text/x-python",
   "name": "python",
   "nbconvert_exporter": "python",
   "pygments_lexer": "ipython3",
   "version": "3.10.14"
  }
 },
 "nbformat": 4,
 "nbformat_minor": 5
}
